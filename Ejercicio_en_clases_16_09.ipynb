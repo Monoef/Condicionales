{
  "nbformat": 4,
  "nbformat_minor": 0,
  "metadata": {
    "colab": {
      "provenance": [],
      "authorship_tag": "ABX9TyNyFuKLn0ye9aMbig6Rdal1",
      "include_colab_link": true
    },
    "kernelspec": {
      "name": "python3",
      "display_name": "Python 3"
    },
    "language_info": {
      "name": "python"
    }
  },
  "cells": [
    {
      "cell_type": "markdown",
      "metadata": {
        "id": "view-in-github",
        "colab_type": "text"
      },
      "source": [
        "<a href=\"https://colab.research.google.com/github/Monoef/Condicionales/blob/main/Ejercicio_en_clases_16_09.ipynb\" target=\"_parent\"><img src=\"https://colab.research.google.com/assets/colab-badge.svg\" alt=\"Open In Colab\"/></a>"
      ]
    },
    {
      "cell_type": "markdown",
      "source": [
        "# Ejercicios condicionales\n",
        "1. Presentado por: ERICK FLOREZ SALGADO - 000415292\n",
        "\n",
        "Problema: Cálculo del Precio de Boletas en el Cine\n",
        "\n",
        "* **Descripción del problema:**\n",
        "\n",
        "Un cine local ofrece promociones en las entradas según el horario de la función. Las reglas para determinar el costo de las entradas son las siguientes:\n",
        "\n",
        "Para cualquier función antes de las 6:00 p.m., las entradas tienen los siguientes precios:\n",
        "\n",
        "* Niños: $ 5000 COP.\n",
        "* Adultos: $ 7500 COP.\n",
        "\n",
        "Entrada general: $ 10000 COP por persona.\n",
        "\n",
        "Además, si el total de la compra supera los $50000 COP, el cine regala una crispeta familiar.\n",
        "\n",
        "Para funciones después de las 6:00 p.m., el precio de la entrada es general:\n",
        "\n",
        "* **Entradas del problema**\n",
        "\n",
        "* num_ninos: número de niños en el grupo.\n",
        "* num_adultos: número de adultos en el grupo.\n",
        "* hora_funcion: hora de la función en formato de 24 horas (por ejemplo, 14 para las 2 p.m., 19 para las 7 p.m.).\n",
        "\n",
        "* **Salidas esperadas:**\n",
        "* El total a pagar por las entradas.\n",
        "* Si se obtiene o no la crispeta familiar.\n"
      ],
      "metadata": {
        "id": "Vf1PWA7-25iL"
      }
    },
    {
      "cell_type": "markdown",
      "source": [
        "ALGORITMO\n",
        "1. Iniciar\n",
        "2. Obtener el numero de niños que entrara en la funcion\n",
        "3. Obtener el numero de adultos que entrara a la funcion\n",
        "4. Obtener la hora de la funcion (0 - 24)\n",
        "5. Determinar el total dependiendo de la hora de la funcion:\n",
        "\n",
        "- Si la hora es menor a 18, entonces: total = num_ninos * 5000 + num_adultos * 7500\n",
        "- Si la hora mayor o igual a 18, entonces: total = (num_ninos + num_adultos) * 10000\n",
        "\n",
        "6. Mostrar total\n",
        "7. Si el total es mayor a $50000, indicar que se ha ganado una crispeta gratis\n",
        "8. Finalizar"
      ],
      "metadata": {
        "id": "u30zx8nP6__f"
      }
    },
    {
      "cell_type": "markdown",
      "source": [
        "Pseudocódigo\n",
        "\n",
        "Program calcularEntradasCine\n",
        "Start\n",
        "  // Programa para calcular el total de las entradas a cine\n",
        "  Declare Int num_ninos\n",
        "  Declare Int num_adultos\n",
        "  Declare Int hora\n",
        "  Declare Float total\n",
        "\n",
        "  Display \"Ingrese el número de niños: \"\n",
        "  Input num_ninos\n",
        "  Display \"Ingrese el número de adultos: \"\n",
        "  Input num_adultos\n",
        "  Display \"Ingrese la hora de la función (0 - 23): \"\n",
        "  Input hora\n",
        "  \n",
        "  // Determinar el total a pagar dependiendo de la hora de la función\n",
        "  If hora < 18 Then\n",
        "    total = num_ninos * 5000 + num_adultos * 7500\n",
        "  Else\n",
        "    total = (num_ninos + num_adultos) * 10000\n",
        "  End If\n",
        "\n",
        "  Display \"El total a pagar es\", Total\n",
        "\n",
        "  If total > 50000 Then\n",
        "  Dislay \"Se ha ganado unas crispetas familiar\".\n",
        "  \n",
        "  Display \"El total a pagar es \", total\n",
        "\n",
        "  // Determinar si el grupo se gana unas crispetas\n",
        "  If total > 50000 Then\n",
        "    Display \"Se ha ganado unas crispetas familiar.\"\n",
        "  End If\n",
        "  \n",
        "  Display \"Disfrute de la función :)\"\n",
        "\n",
        "End"
      ],
      "metadata": {
        "id": "7YttTGWxB4GB"
      }
    },
    {
      "cell_type": "code",
      "source": [
        "num_ninos = int(input(\"Ingrese el número de niños: \"))\n",
        "num_adultos = int(input(\"Ingrese el número de adultos: \"))\n",
        "hora = int(input(\"Ingrese la hora de la función (0 - 23): \"))\n",
        "\n",
        "if hora < 18:\n",
        "  total = num_ninos * 5000 + num_adultos * 7500\n",
        "else:\n",
        "  total = (num_ninos + num_adultos) * 10000\n",
        "\n",
        "print(\"El total a pagar es $\", total)\n",
        "\n",
        "if total > 50000:\n",
        "  print(\"Se ha ganado unas crispetas familiar.\")\n",
        "\n",
        "print(\"Disfrute de la función :)\")"
      ],
      "metadata": {
        "id": "9Tews7pFCHOx"
      },
      "execution_count": null,
      "outputs": []
    }
  ]
}